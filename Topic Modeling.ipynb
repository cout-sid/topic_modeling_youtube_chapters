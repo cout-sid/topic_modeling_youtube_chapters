{
 "cells": [
  {
   "cell_type": "markdown",
   "id": "821ad079",
   "metadata": {},
   "source": [
    "# Topic Modeling for extracting Youtube Topics\n",
    "\n",
    "\n",
    "\n"
   ]
  },
  {
   "cell_type": "markdown",
   "id": "2c939e41-3efc-4d5c-9347-ec343daf4800",
   "metadata": {},
   "source": []
  },
  {
   "cell_type": "code",
   "execution_count": 1,
   "id": "d7aa8058-5eef-4032-909a-55f513acea51",
   "metadata": {},
   "outputs": [
    {
     "data": {
      "text/html": [
       "<style>.container { width:90% !important; }</style>"
      ],
      "text/plain": [
       "<IPython.core.display.HTML object>"
      ]
     },
     "metadata": {},
     "output_type": "display_data"
    }
   ],
   "source": [
    "# Increase the display size\n",
    "from IPython.display import display, HTML\n",
    "display(HTML(\"<style>.container { width:90% !important; }</style>\"))"
   ]
  },
  {
   "cell_type": "code",
   "execution_count": 2,
   "id": "07253444-ae15-4936-a5d5-c3001f8716a1",
   "metadata": {},
   "outputs": [],
   "source": [
    "# !pip install langchain python-dotenv\n",
    "# !pip install tiktoken"
   ]
  },
  {
   "cell_type": "code",
   "execution_count": 3,
   "id": "de3e5a4b",
   "metadata": {},
   "outputs": [
    {
     "data": {
      "text/plain": [
       "True"
      ]
     },
     "execution_count": 3,
     "metadata": {},
     "output_type": "execute_result"
    }
   ],
   "source": [
    "from langchain.prompts.chat import (\n",
    "    ChatPromptTemplate,\n",
    "    SystemMessagePromptTemplate,\n",
    "    HumanMessagePromptTemplate\n",
    ")\n",
    "\n",
    "from langchain.chat_models import ChatOpenAI\n",
    "from langchain.text_splitter import RecursiveCharacterTextSplitter\n",
    "from langchain.chains.summarize import load_summarize_chain\n",
    "from langchain.chains import create_extraction_chain\n",
    "\n",
    "from langchain.embeddings.openai import OpenAIEmbeddings\n",
    "from langchain.chains import RetrievalQA\n",
    "from langchain.vectorstores import Chroma, Pinecone\n",
    "\n",
    "import os\n",
    "from dotenv import load_dotenv\n",
    "\n",
    "load_dotenv()"
   ]
  },
  {
   "cell_type": "code",
   "execution_count": 4,
   "id": "17ef4d09",
   "metadata": {},
   "outputs": [],
   "source": [
    "llm = ChatOpenAI(temperature=0,\n",
    "                  openai_api_key=os.getenv('OPENAI_KEY'),\n",
    "                  model_name=\"gpt-3.5-turbo-0613\",\n",
    "                  request_timeout = 180\n",
    "                )"
   ]
  },
  {
   "cell_type": "code",
   "execution_count": 5,
   "id": "be6fb49b",
   "metadata": {},
   "outputs": [],
   "source": [
    "# I put three prepared transcripts\n",
    "transcript_paths = [\n",
    "    'Transcripts/MFMPod/mfm_pod_steph.txt',\n",
    "    'Transcripts/MFMPod/mfm_pod_alex.txt',\n",
    "    'Transcripts/MFMPod/mfm_pod_rob.txt'\n",
    "]\n",
    "\n",
    "with open('Transcripts/MFMPod/mfm_pod_steph.txt') as file:\n",
    "    transcript = file.read()"
   ]
  },
  {
   "cell_type": "code",
   "execution_count": 6,
   "id": "8fd28ab9",
   "metadata": {},
   "outputs": [
    {
     "name": "stdout",
     "output_type": "stream",
     "text": [
      "Shaan Puri (0:00:00-0:00:03): D to see hearing AIDS. I think that's actually going to be a big deal. \n",
      "\n",
      "Sam Parr (0:00:03-0:00:05): And they're profitable. \n",
      "\n",
      "Shaan Puri (0:00:05-0:00:08): I mean, I'm just turning you on. Yeah, they were. \n",
      "\n",
      "Sam Parr (0:00:12-0:00:13): They Mormon. \n"
     ]
    }
   ],
   "source": [
    "print(transcript[:280])"
   ]
  },
  {
   "cell_type": "markdown",
   "id": "29c7b13f",
   "metadata": {},
   "source": [
    "Then we are going to split our text up into chunks. We do this because if the text is too long, it wouldn't fit in the prompt "
   ]
  },
  {
   "cell_type": "code",
   "execution_count": 11,
   "id": "ce687f77",
   "metadata": {},
   "outputs": [
    {
     "name": "stdout",
     "output_type": "stream",
     "text": [
      "You have 3 docs. First doc is 2801 tokens\n"
     ]
    }
   ],
   "source": [
    "# Load up your text splitter\n",
    "text_splitter = RecursiveCharacterTextSplitter(separators=[\"\\n\\n\", \"\\n\", \" \"], chunk_size=10000, chunk_overlap=2200)\n",
    "\n",
    "transcript_subsection_characters = 23250\n",
    "docs = text_splitter.create_documents([transcript[:transcript_subsection_characters]])\n",
    "print (f\"You have {len(docs)} docs. First doc is {llm.get_num_tokens(docs[0].page_content)} tokens\")"
   ]
  },
  {
   "cell_type": "markdown",
   "id": "cb048dd1",
   "metadata": {},
   "source": [
    "## Step 1: Extract Topic Titles & Short Description"
   ]
  },
  {
   "cell_type": "markdown",
   "id": "4b5e4b2a",
   "metadata": {},
   "source": [
    "First we will try to obrain a topic title and a short description from the LLM. I found it was too much for the LLM to ask for a long description in one go. So we will get short description and then expand on that.\n"
   ]
  },
  {
   "cell_type": "code",
   "execution_count": 7,
   "id": "f9792cb0",
   "metadata": {},
   "outputs": [],
   "source": [
    "template=\"\"\"\n",
    "You are a helpful assistant that helps retrieve topics talked about in a podcast transcript\n",
    "- Your goal is to extract the topic names and brief 1-sentence description of the topic\n",
    "- Topics include:\n",
    "  - Themes\n",
    "  - Business Ideas\n",
    "  - Interesting Stories\n",
    "  - Money making businesses\n",
    "  - Quick stories about people\n",
    "  - Mental Frameworks\n",
    "  - Stories about an industry\n",
    "  - Analogies mentioned\n",
    "  - Advice or words of caution\n",
    "  - Pieces of news or current events\n",
    "- Provide a brief description of the topics after the topic name. Example: 'Topic: Brief Description'\n",
    "- Use the same words and terminology that is said in the podcast\n",
    "- Do not respond with anything outside of the podcast. If you don't see any topics, say, 'No Topics'\n",
    "- Do not respond with numbers, just bullet points\n",
    "- Do not include anything about 'Marketing Against the Grain'\n",
    "- Only pull topics from the transcript. Do not use the examples\n",
    "- Make your titles descriptive but concise. Example: 'Shaan's Experience at Twitch' should be 'Shaan's Interesting Projects At Twitch'\n",
    "- A topic should be substantial, more than just a one-off comment\n",
    "\n",
    "% START OF EXAMPLES\n",
    " - Sam’s Elisabeth Murdoch Story: Sam got a call from Elizabeth Murdoch when he had just launched The Hustle. She wanted to generate video content.\n",
    " - Shaan’s Rupert Murdoch Story: When Shaan was running Blab he was invited to an event organized by Rupert Murdoch during CES in Las Vegas.\n",
    " - Revenge Against The Spam Calls: A couple of businesses focused on protecting consumers: RoboCall, TrueCaller, DoNotPay, FitIt\n",
    " - Wildcard CEOs vs. Prudent CEOs: However, Munger likes to surround himself with prudent CEO’s and says he would never hire Musk.\n",
    " - Chess Business: Priyav, a college student, expressed his doubts on the MFM Facebook group about his Chess training business, mychesstutor.com, making $12.5K MRR with 90 enrolled.\n",
    " - Restaurant Refiller: An MFM Facebook group member commented on how they pay AirMark $1,000/month for toilet paper and toilet cover refills for their restaurant. Shaan sees an opportunity here for anyone wanting to compete against AirMark.\n",
    " - Collecting: Shaan shared an idea to build a mobile only marketplace for a collectors’ category; similar to what StockX does for premium sneakers.\n",
    "% END OF EXAMPLES\n",
    "\"\"\"\n",
    "system_message_prompt_map = SystemMessagePromptTemplate.from_template(template)\n",
    "\n",
    "human_template=\"Transcript: {text}\" # Just pass the text as a human message\n",
    "human_message_prompt_map = HumanMessagePromptTemplate.from_template(human_template)\n",
    "\n",
    "chat_prompt_map = ChatPromptTemplate.from_messages(messages=[system_message_prompt_map, human_message_prompt_map])"
   ]
  },
  {
   "cell_type": "markdown",
   "id": "4e6825c1",
   "metadata": {},
   "source": [
    "Then we have our combine prompt which will run once over the results of the map prompt above"
   ]
  },
  {
   "cell_type": "code",
   "execution_count": 8,
   "id": "75d6fc74",
   "metadata": {},
   "outputs": [],
   "source": [
    "template=\"\"\"\n",
    "You are a helpful assistant that helps retrieve topics talked about in a podcast transcript\n",
    "- You will be given a series of bullet topics of topics vound\n",
    "- Your goal is to exract the topic names and brief 1-sentence description of the topic\n",
    "- Deduplicate any bullet points you see\n",
    "- Only pull topics from the transcript. Do not use the examples\n",
    "\n",
    "% START OF EXAMPLES\n",
    " - Sam’s Elisabeth Murdoch Story: Sam got a call from Elizabeth Murdoch when he had just launched The Hustle. She wanted to generate video content.\n",
    " - Shaan’s Rupert Murdoch Story: When Shaan was running Blab he was invited to an event organized by Rupert Murdoch during CES in Las Vegas.\n",
    "% END OF EXAMPLES\n",
    "\"\"\"\n",
    "system_message_prompt_map = SystemMessagePromptTemplate.from_template(template)\n",
    "\n",
    "human_template=\"Transcript: {text}\" # Just pass the text as a human message\n",
    "human_message_prompt_map = HumanMessagePromptTemplate.from_template(human_template)\n",
    "\n",
    "chat_prompt_combine = ChatPromptTemplate.from_messages(messages=[system_message_prompt_map, human_message_prompt_map])"
   ]
  },
  {
   "cell_type": "markdown",
   "id": "ce1e906a",
   "metadata": {},
   "source": [
    "### Extract the topics according to our custom prompts"
   ]
  },
  {
   "cell_type": "code",
   "execution_count": 15,
   "id": "d0bb61ab",
   "metadata": {},
   "outputs": [],
   "source": [
    "chain = load_summarize_chain(llm,\n",
    "                             chain_type=\"map_reduce\",\n",
    "                             map_prompt=chat_prompt_map,\n",
    "                             combine_prompt=chat_prompt_combine,\n",
    "#                              verbose=True\n",
    "                            )"
   ]
  },
  {
   "cell_type": "code",
   "execution_count": 17,
   "id": "98b9b205",
   "metadata": {
    "scrolled": true
   },
   "outputs": [],
   "source": [
    "topics_found = chain.run({\"input_documents\": docs})"
   ]
  },
  {
   "cell_type": "code",
   "execution_count": 10,
   "id": "8f6bcb6e",
   "metadata": {},
   "outputs": [
    {
     "name": "stdout",
     "output_type": "stream",
     "text": [
      "- Hearing Aids Business: Shaan and Sam explore the potential profitability of the hearing aids industry.\n",
      "- Children's Play Space Business: Shaan revisits a business idea about a membership-based children's play space.\n",
      "- Steph Smith's Career: The hosts discuss Steph Smith's career progression, including her current role at Andreessen Horowitz.\n",
      "- Working at Andreessen Horowitz: Steph shares insights about her experience at Andreessen Horowitz, a leading VC firm.\n",
      "- Office Culture: The trio discuss the differences between working in an office environment and working remotely.\n",
      "- Sam's Master Plan at Facebook: Sam shares advice he gave to his wife Sarah about making an impact at Facebook.\n",
      "- Shaan's Strategy at Twitch: Shaan recounts his networking strategy during his time at Twitch.\n",
      "- Commercial Real Estate Crisis: The hosts discuss the high vacancy rates in commercial real estate, particularly in cities like San Francisco.\n",
      "- Opportunity in Fractional Real Estate: Steph suggests that the commercial real estate crisis could lead to opportunities in fractional real estate.\n",
      "- Temple Immersive: The hosts discuss Temple Immersive, a nightclub that doubles as a yoga studio, as an example of fractional real estate.\n",
      "- Rage Rooms: Steph introduces the concept of rage rooms, where people pay to destroy objects in a controlled environment.\n",
      "- Escape Room Business Success: The hosts discuss Raleigh Williams' successful escape room business, which sold for $26 million.\n"
     ]
    }
   ],
   "source": [
    "print (topics_found)"
   ]
  },
  {
   "cell_type": "markdown",
   "id": "99caca7c",
   "metadata": {},
   "source": [
    "### Structured Data - Turn the LLM output into structured data\n"
   ]
  },
  {
   "cell_type": "code",
   "execution_count": 11,
   "id": "0b1e14c2",
   "metadata": {},
   "outputs": [],
   "source": [
    "schema = {\n",
    "    \"properties\": {\n",
    "        # The title of the topic\n",
    "        \"topic_name\": {\n",
    "            \"type\": \"string\",\n",
    "            \"description\" : \"The title of the topic listed\"\n",
    "        },\n",
    "        # The description\n",
    "        \"description\": {\n",
    "            \"type\": \"string\",\n",
    "            \"description\" : \"The description of the topic listed\"\n",
    "        },\n",
    "        \"tag\": {\n",
    "            \"type\": \"string\",\n",
    "            \"description\" : \"The type of content being described\",\n",
    "            \"enum\" : ['Business Models', 'Life Advice', 'Health & Wellness', 'Stories']\n",
    "        }\n",
    "    },\n",
    "    \"required\": [\"topic\", \"description\"],\n",
    "}"
   ]
  },
  {
   "cell_type": "code",
   "execution_count": 12,
   "id": "32e3b595",
   "metadata": {},
   "outputs": [],
   "source": [
    "chain = create_extraction_chain(schema, llm)"
   ]
  },
  {
   "cell_type": "code",
   "execution_count": 13,
   "id": "767cfbc5",
   "metadata": {},
   "outputs": [],
   "source": [
    "topics_structured = chain.run(topics_found)"
   ]
  },
  {
   "cell_type": "code",
   "execution_count": 14,
   "id": "28ccaa5a",
   "metadata": {},
   "outputs": [
    {
     "data": {
      "text/plain": [
       "[{'topic_name': 'Hearing Aids Business',\n",
       "  'description': 'Shaan and Sam explore the potential profitability of the hearing aids industry.',\n",
       "  'tag': 'Business Models'},\n",
       " {'topic_name': \"Children's Play Space Business\",\n",
       "  'description': \"Shaan revisits a business idea about a membership-based children's play space.\",\n",
       "  'tag': 'Business Models'},\n",
       " {'topic_name': \"Steph Smith's Career\",\n",
       "  'description': \"The hosts discuss Steph Smith's career progression, including her current role at Andreessen Horowitz.\",\n",
       "  'tag': 'Business Models'},\n",
       " {'topic_name': 'Working at Andreessen Horowitz',\n",
       "  'description': 'Steph shares insights about her experience at Andreessen Horowitz, a leading VC firm.',\n",
       "  'tag': 'Business Models'},\n",
       " {'topic_name': 'Office Culture',\n",
       "  'description': 'The trio discuss the differences between working in an office environment and working remotely.',\n",
       "  'tag': 'Business Models'},\n",
       " {'topic_name': \"Sam's Master Plan at Facebook\",\n",
       "  'description': 'Sam shares advice he gave to his wife Sarah about making an impact at Facebook.',\n",
       "  'tag': 'Life Advice'},\n",
       " {'topic_name': \"Shaan's Strategy at Twitch\",\n",
       "  'description': 'Shaan recounts his networking strategy during his time at Twitch.',\n",
       "  'tag': 'Life Advice'},\n",
       " {'topic_name': 'Commercial Real Estate Crisis',\n",
       "  'description': 'The hosts discuss the high vacancy rates in commercial real estate, particularly in cities like San Francisco.',\n",
       "  'tag': 'Business Models'},\n",
       " {'topic_name': 'Opportunity in Fractional Real Estate',\n",
       "  'description': 'Steph suggests that the commercial real estate crisis could lead to opportunities in fractional real estate.',\n",
       "  'tag': 'Business Models'},\n",
       " {'topic_name': 'Temple Immersive',\n",
       "  'description': 'The hosts discuss Temple Immersive, a nightclub that doubles as a yoga studio, as an example of fractional real estate.',\n",
       "  'tag': 'Business Models'},\n",
       " {'topic_name': 'Rage Rooms',\n",
       "  'description': 'Steph introduces the concept of rage rooms, where people pay to destroy objects in a controlled environment.',\n",
       "  'tag': 'Business Models'},\n",
       " {'topic_name': 'Escape Room Business Success',\n",
       "  'description': \"The hosts discuss Raleigh Williams' successful escape room business, which sold for $26 million.\",\n",
       "  'tag': 'Business Models'}]"
      ]
     },
     "execution_count": 14,
     "metadata": {},
     "output_type": "execute_result"
    }
   ],
   "source": [
    "topics_structured"
   ]
  },
  {
   "cell_type": "markdown",
   "id": "3bea8d61",
   "metadata": {},
   "source": [
    "Great, now we have our structured topics. Let's *expand* on those topics even more.\n",
    "\n",
    "## Step 2: Expand on the topics you found\n",
    "\n"
   ]
  },
  {
   "cell_type": "code",
   "execution_count": 15,
   "id": "d0b6b833",
   "metadata": {},
   "outputs": [
    {
     "name": "stdout",
     "output_type": "stream",
     "text": [
      "You have 8 docs. First doc is 776 tokens\n"
     ]
    }
   ],
   "source": [
    "text_splitter = RecursiveCharacterTextSplitter(chunk_size=4000, chunk_overlap=800)\n",
    "\n",
    "docs = text_splitter.create_documents([transcript[:transcript_subsection_characters]])\n",
    "\n",
    "print (f\"You have {len(docs)} docs. First doc is {llm3.get_num_tokens(docs[0].page_content)} tokens\")"
   ]
  },
  {
   "cell_type": "markdown",
   "id": "80145b03",
   "metadata": {},
   "source": [
    "Because I want to do Question & Answer Retrieval, we need to get embeddings for our documents so we can pull out the docs which are similar for context later."
   ]
  },
  {
   "cell_type": "code",
   "execution_count": 16,
   "id": "faa3a638",
   "metadata": {},
   "outputs": [],
   "source": [
    "embeddings = OpenAIEmbeddings(openai_api_key=os.getenv('OPENAI_KEY'))"
   ]
  },
  {
   "cell_type": "code",
   "execution_count": 22,
   "id": "31ce1b1a",
   "metadata": {},
   "outputs": [],
   "source": [
    "docsearch = Chroma.from_documents(docs, embeddings)"
   ]
  },
  {
   "cell_type": "code",
   "execution_count": 23,
   "id": "b6ee1f6e",
   "metadata": {},
   "outputs": [],
   "source": [
    "# the context placeholder kind of stores the relevant docs\n",
    "system_template = \"\"\"\n",
    "You will be given text from a podcast transcript which contains many topics.\n",
    "You goal is to write a summary (5 sentences or less) about a topic the user chooses\n",
    "Do not respond with information that isn't relevant to the topic that the user gives you\n",
    "----------------\n",
    "{context}\"\"\"\n",
    "\n",
    "messages = [\n",
    "    SystemMessagePromptTemplate.from_template(system_template),\n",
    "    HumanMessagePromptTemplate.from_template(\"{question}\"),\n",
    "]\n",
    "\n",
    "# This will pull the two messages together and get them ready to be sent to the LLM through the retriever\n",
    "CHAT_PROMPT = ChatPromptTemplate.from_messages(messages)"
   ]
  },
  {
   "cell_type": "code",
   "execution_count": 24,
   "id": "35eb54d3",
   "metadata": {},
   "outputs": [],
   "source": [
    "# I'm using gpt4 for the increased reasoning power.\n",
    "# I'm also setting k=4 so the number of relevant docs we get back is 4. This parameter should be tuned to your use case\n",
    "qa = RetrievalQA.from_chain_type(llm=llm4,\n",
    "                                 chain_type=\"stuff\",\n",
    "                                 retriever=docsearch.as_retriever(k=4),\n",
    "                                 chain_type_kwargs = {\n",
    "#                                      'verbose': True,\n",
    "                                     'prompt': CHAT_PROMPT\n",
    "                                 })"
   ]
  },
  {
   "cell_type": "markdown",
   "id": "6cdd1fe6",
   "metadata": {},
   "source": [
    "Then let's iterate through the topics that we found and run our QA query on them.\n",
    "\n",
    "This will print out our expanded topics."
   ]
  },
  {
   "cell_type": "code",
   "execution_count": 25,
   "id": "319bebc5",
   "metadata": {},
   "outputs": [
    {
     "name": "stdout",
     "output_type": "stream",
     "text": [
      "Hearing Aids Business: Shaan and Sam explore the potential profitability of the hearing aids industry.\n",
      "Shaan Puri and Sam Parr discussed the potential of the hearing aids industry, noting that it could be a profitable venture. They did not provide specific details about the industry but expressed optimism about its potential.\n",
      "\n",
      "\n",
      "\n",
      "Children's Play Space Business: Shaan revisits a business idea about a membership-based children's play space.\n",
      "Shaan Puri discussed a business idea he had previously mentioned about a children's play space. This business operates on a membership basis where parents pay a fee for their children to play with various toys inside the facility. However, Shaan clarified that he does not endorse this business idea, as he only had a single experience with it and does not know if it is profitable or not. He expressed concern that listeners might have taken his discussion as a recommendation and invested in similar franchises.\n",
      "\n",
      "\n",
      "\n",
      "Steph Smith's Career: The hosts discuss Steph Smith's career progression, including her current role at Andreessen Horowitz.\n",
      "Steph Smith, who started her career with a blog, was invited by Sam Parr to join Trends due to her impressive headline writing. After working there for a couple of years, she moved on to Andreessen Horowitz, one of the world's largest venture capital firms. Despite initially feeling out of place, she has now settled into her role and is enjoying her work. She also runs a podcast which she considers an asset to the firm. The hosts encourage her to take advantage of her position to network and learn from the smart people around her.\n",
      "\n",
      "\n",
      "\n",
      "Working at Andreessen Horowitz: Steph shares insights about her experience at Andreessen Horowitz, a leading VC firm.\n",
      "Steph Smith, who works at Andreessen Horowitz, discussed her experience at the firm during a podcast. She mentioned that she initially felt out of place among the high-achieving individuals at the firm, but has since grown more comfortable. Her colleagues advised her to take advantage of the opportunity to interact with some of the smartest people in the world, rather than just focusing on her job. They suggested she should be present in the office every day to seize any potential opportunities. Steph also mentioned that she feels the podcast she runs is an asset to the firm.\n",
      "\n",
      "\n",
      "\n",
      "Office Culture: The trio discuss the differences between working in an office environment and working remotely.\n",
      "Shaan Puri and Sam Parr encourage Steph Smith to take advantage of her position at Andreessen Horowitz by being physically present in the office and interacting with the high-profile individuals there. They argue that the real value of her job is the opportunity to network and learn from some of the smartest people in the world. Steph, who has been working remotely for the past eight years, admits she needs to be more proactive in creating these interactions. Shaan shares his own experience at Twitch, where he prioritized attending interesting meetings over his actual job responsibilities, which he believes led to his success.\n",
      "\n",
      "\n",
      "\n"
     ]
    }
   ],
   "source": [
    "# Only doing the first 3 for conciseness \n",
    "for topic in topics_structured[:5]:\n",
    "    query = f\"\"\"\n",
    "        {topic['topic_name']}: {topic['description']}\n",
    "    \"\"\"\n",
    "\n",
    "    expanded_topic = qa.run(query)\n",
    "\n",
    "    print(f\"{topic['topic_name']}: {topic['description']}\")\n",
    "    print(expanded_topic)\n",
    "    print (\"\\n\\n\")"
   ]
  },
  {
   "cell_type": "markdown",
   "id": "2af12d27",
   "metadata": {},
   "source": [
    "## Extracting timestamps of chapters"
   ]
  },
  {
   "cell_type": "code",
   "execution_count": 26,
   "id": "fffe4acd",
   "metadata": {},
   "outputs": [],
   "source": [
    "system_template = \"\"\"\n",
    "What is the first timestamp when the speakers started talking about a topic the user gives?\n",
    "Only respond with the timestamp, nothing else. Example: 0:18:24\n",
    "----------------\n",
    "{context}\"\"\"\n",
    "messages = [\n",
    "    SystemMessagePromptTemplate.from_template(system_template),\n",
    "    HumanMessagePromptTemplate.from_template(\"{question}\"),\n",
    "]\n",
    "CHAT_PROMPT = ChatPromptTemplate.from_messages(messages)"
   ]
  },
  {
   "cell_type": "code",
   "execution_count": 27,
   "id": "53da58b7",
   "metadata": {},
   "outputs": [],
   "source": [
    "qa = RetrievalQA.from_chain_type(llm=llm,\n",
    "                                 chain_type=\"stuff\",\n",
    "                                 retriever=docsearch.as_retriever(k=4),\n",
    "                                 chain_type_kwargs = {\n",
    "#                                      'verbose': True,\n",
    "                                     'prompt': CHAT_PROMPT\n",
    "                                 })"
   ]
  },
  {
   "cell_type": "code",
   "execution_count": 28,
   "id": "ff8085a8",
   "metadata": {},
   "outputs": [],
   "source": [
    "# Holder for topic timestamps\n",
    "topic_timestamps = []\n",
    "\n",
    "for topic in topics_structured:\n",
    "\n",
    "    query = f\"{topic['topic_name']} - {topic['description']}\"\n",
    "    timestamp = qa.run(query)\n",
    "    \n",
    "    topic_timestamps.append(f\"{timestamp} - {topic['topic_name']}\")"
   ]
  },
  {
   "cell_type": "code",
   "execution_count": 29,
   "id": "35f75f16",
   "metadata": {},
   "outputs": [
    {
     "name": "stdout",
     "output_type": "stream",
     "text": [
      "0:00:00 - Hearing Aids Business\n",
      "0:00:40 - Children's Play Space Business\n",
      "0:04:24 - Office Culture\n",
      "0:04:26 - Steph Smith's Career\n",
      "0:05:27 - Working at Andreessen Horowitz\n",
      "0:06:37 - Sam's Master Plan at Facebook\n",
      "0:09:21 - Shaan's Strategy at Twitch\n",
      "0:12:32 - Commercial Real Estate Crisis\n",
      "0:12:32 - Opportunity in Fractional Real Estate\n",
      "0:13:10 - Temple Immersive\n",
      "0:14:56 - Rage Rooms\n",
      "0:16:43 - Escape Room Business Success\n"
     ]
    }
   ],
   "source": [
    "print (\"\\n\".join(sorted(topic_timestamps)))"
   ]
  },
  {
   "cell_type": "code",
   "execution_count": null,
   "id": "58a73709-4fe5-4bff-974f-a9f84a600447",
   "metadata": {},
   "outputs": [],
   "source": []
  },
  {
   "cell_type": "code",
   "execution_count": null,
   "id": "b1ed9552-b8b7-45f1-b486-36533b4f5cc5",
   "metadata": {},
   "outputs": [],
   "source": []
  },
  {
   "cell_type": "code",
   "execution_count": null,
   "id": "2a1eb340-b989-46bc-9368-71acb67d4f18",
   "metadata": {},
   "outputs": [],
   "source": []
  },
  {
   "cell_type": "code",
   "execution_count": null,
   "id": "05bc4b3d-8d9b-4b7b-8a9f-2aa609a7587e",
   "metadata": {},
   "outputs": [],
   "source": []
  },
  {
   "cell_type": "code",
   "execution_count": null,
   "id": "9fc1da1e",
   "metadata": {},
   "outputs": [],
   "source": [
    "# 0:00:00 - Hearing Aids Business\n",
    "# 0:00:40 - Children's Play Space Business\n",
    "# 0:04:24 - Office Culture\n",
    "# 0:04:26 - Steph Smith's Career\n",
    "# 0:05:27 - Working at Andreessen Horowitz\n",
    "# 0:06:37 - Sam's Master Plan at Facebook\n",
    "# 0:09:21 - Shaan's Strategy at Twitch\n",
    "# 0:12:32 - Commercial Real Estate Crisis\n",
    "# 0:12:32 - Opportunity in Fractional Real Estate\n",
    "# 0:13:10 - Temple Immersive\n",
    "# 0:14:56 - Rage Rooms\n",
    "# 0:16:43 - Escape Room Business Success"
   ]
  }
 ],
 "metadata": {
  "kernelspec": {
   "display_name": "Python 3 (ipykernel)",
   "language": "python",
   "name": "python3"
  },
  "language_info": {
   "codemirror_mode": {
    "name": "ipython",
    "version": 3
   },
   "file_extension": ".py",
   "mimetype": "text/x-python",
   "name": "python",
   "nbconvert_exporter": "python",
   "pygments_lexer": "ipython3",
   "version": "3.10.13"
  }
 },
 "nbformat": 4,
 "nbformat_minor": 5
}
